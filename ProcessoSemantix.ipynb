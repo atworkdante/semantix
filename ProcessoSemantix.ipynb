{
 "cells": [
  {
   "cell_type": "code",
   "execution_count": 1,
   "metadata": {},
   "outputs": [],
   "source": [
    "from pyspark.sql import SparkSession\n",
    "import pyspark.sql.functions as F"
   ]
  },
  {
   "cell_type": "code",
   "execution_count": 2,
   "metadata": {},
   "outputs": [],
   "source": [
    "spark = SparkSession.builder\\\n",
    "                    .appName('Processo')\\\n",
    "                    .getOrCreate()"
   ]
  },
  {
   "cell_type": "markdown",
   "metadata": {},
   "source": [
    "# Preparando dados no HDFS"
   ]
  },
  {
   "cell_type": "code",
   "execution_count": 3,
   "metadata": {},
   "outputs": [
    {
     "name": "stdout",
     "output_type": "stream",
     "text": [
      "NASA_access_log_Aug95  NASA_access_log_Jul95  Semantix.ipynb\r\n"
     ]
    }
   ],
   "source": [
    "!ls"
   ]
  },
  {
   "cell_type": "code",
   "execution_count": 4,
   "metadata": {},
   "outputs": [
    {
     "name": "stdout",
     "output_type": "stream",
     "text": [
      "Found 11 items\r\n",
      "drwxrwxrwx   - yarn   hadoop          0 2018-06-18 15:18 /app-logs\r\n",
      "drwxr-xr-x   - hdfs   hdfs            0 2018-06-18 16:13 /apps\r\n",
      "drwxr-xr-x   - yarn   hadoop          0 2018-06-18 14:52 /ats\r\n",
      "drwxr-xr-x   - hdfs   hdfs            0 2018-06-18 14:52 /hdp\r\n",
      "drwx------   - livy   hdfs            0 2018-06-18 15:11 /livy2-recovery\r\n",
      "drwxr-xr-x   - mapred hdfs            0 2018-06-18 14:52 /mapred\r\n",
      "drwxrwxrwx   - mapred hadoop          0 2018-06-18 14:52 /mr-history\r\n",
      "drwxr-xr-x   - hdfs   hdfs            0 2018-06-18 15:59 /ranger\r\n",
      "drwxrwxrwx   - spark  hadoop          0 2019-08-17 20:45 /spark2-history\r\n",
      "drwxrwxrwx   - hdfs   hdfs            0 2018-06-18 16:06 /tmp\r\n",
      "drwxr-xr-x   - hdfs   hdfs            0 2018-06-18 16:08 /user\r\n"
     ]
    }
   ],
   "source": [
    "!hdfs dfs -ls /"
   ]
  },
  {
   "cell_type": "code",
   "execution_count": 5,
   "metadata": {},
   "outputs": [
    {
     "name": "stdout",
     "output_type": "stream",
     "text": [
      "Found 12 items\r\n",
      "drwxrwxrwx   - yarn   hadoop          0 2018-06-18 15:18 /app-logs\r\n",
      "drwxr-xr-x   - hdfs   hdfs            0 2018-06-18 16:13 /apps\r\n",
      "drwxr-xr-x   - yarn   hadoop          0 2018-06-18 14:52 /ats\r\n",
      "drwxr-xr-x   - hdfs   hdfs            0 2018-06-18 14:52 /hdp\r\n",
      "drwx------   - livy   hdfs            0 2018-06-18 15:11 /livy2-recovery\r\n",
      "drwxr-xr-x   - mapred hdfs            0 2018-06-18 14:52 /mapred\r\n",
      "drwxrwxrwx   - mapred hadoop          0 2018-06-18 14:52 /mr-history\r\n",
      "drwxr-xr-x   - hdfs   hdfs            0 2018-06-18 15:59 /ranger\r\n",
      "drwxr-xr-x   - root   hdfs            0 2019-08-17 20:45 /semantix\r\n",
      "drwxrwxrwx   - spark  hadoop          0 2019-08-17 20:45 /spark2-history\r\n",
      "drwxrwxrwx   - hdfs   hdfs            0 2018-06-18 16:06 /tmp\r\n",
      "drwxr-xr-x   - hdfs   hdfs            0 2018-06-18 16:08 /user\r\n"
     ]
    }
   ],
   "source": [
    "!hdfs dfs -mkdir /semantix\n",
    "!hdfs dfs -ls /"
   ]
  },
  {
   "cell_type": "code",
   "execution_count": 6,
   "metadata": {},
   "outputs": [
    {
     "name": "stdout",
     "output_type": "stream",
     "text": [
      "total 356M\r\n",
      "drwxr-xr-x 3 root root 4.0K Aug 17 20:43 .\r\n",
      "dr-xr-x--- 1 root root 4.0K Aug 17 19:06 ..\r\n",
      "drwxr-xr-x 2 root root 4.0K Aug 17 19:07 .ipynb_checkpoints\r\n",
      "-rw-r--r-- 1 root root 161M Aug 17 19:20 NASA_access_log_Aug95\r\n",
      "-rw-r--r-- 1 root root 196M Aug 17 19:08 NASA_access_log_Jul95\r\n",
      "-rw-r--r-- 1 root root  21K Aug 17 20:43 Semantix.ipynb\r\n"
     ]
    }
   ],
   "source": [
    "!ls -lha"
   ]
  },
  {
   "cell_type": "code",
   "execution_count": 7,
   "metadata": {},
   "outputs": [
    {
     "name": "stdout",
     "output_type": "stream",
     "text": [
      "Found 2 items\r\n",
      "-rw-r--r--   1 root hdfs  167813770 2019-08-17 20:45 /semantix/NASA_access_log_Aug95\r\n",
      "-rw-r--r--   1 root hdfs  205242368 2019-08-17 20:45 /semantix/NASA_access_log_Jul95\r\n"
     ]
    }
   ],
   "source": [
    "!hdfs dfs -put NASA* /semantix\n",
    "!hdfs dfs -ls /semantix"
   ]
  },
  {
   "cell_type": "markdown",
   "metadata": {},
   "source": [
    "# Carregando dados no spark"
   ]
  },
  {
   "cell_type": "code",
   "execution_count": 8,
   "metadata": {},
   "outputs": [
    {
     "name": "stdout",
     "output_type": "stream",
     "text": [
      "+--------------------+\n",
      "|               value|\n",
      "+--------------------+\n",
      "|in24.inetnebr.com...|\n",
      "|uplherc.upl.com -...|\n",
      "|uplherc.upl.com -...|\n",
      "|uplherc.upl.com -...|\n",
      "|uplherc.upl.com -...|\n",
      "|ix-esc-ca2-07.ix....|\n",
      "|uplherc.upl.com -...|\n",
      "|slppp6.intermind....|\n",
      "|piweba4y.prodigy....|\n",
      "|slppp6.intermind....|\n",
      "+--------------------+\n",
      "only showing top 10 rows\n",
      "\n"
     ]
    }
   ],
   "source": [
    "df1 = spark.read.text(\"/semantix/NASA_access_log_Aug95\")\n",
    "df1.show(10)"
   ]
  },
  {
   "cell_type": "code",
   "execution_count": 9,
   "metadata": {
    "scrolled": true
   },
   "outputs": [
    {
     "name": "stdout",
     "output_type": "stream",
     "text": [
      "+--------------------+\n",
      "|               value|\n",
      "+--------------------+\n",
      "|199.72.81.55 - - ...|\n",
      "|unicomp6.unicomp....|\n",
      "|199.120.110.21 - ...|\n",
      "|burger.letters.co...|\n",
      "|199.120.110.21 - ...|\n",
      "|burger.letters.co...|\n",
      "|burger.letters.co...|\n",
      "|205.212.115.106 -...|\n",
      "|d104.aa.net - - [...|\n",
      "|129.94.144.152 - ...|\n",
      "+--------------------+\n",
      "only showing top 10 rows\n",
      "\n"
     ]
    }
   ],
   "source": [
    "df2 = spark.read.text(\"/semantix/NASA_access_log_Jul95\")\n",
    "df2.show(10)"
   ]
  },
  {
   "cell_type": "markdown",
   "metadata": {},
   "source": [
    "## Verificando carregamento"
   ]
  },
  {
   "cell_type": "code",
   "execution_count": 10,
   "metadata": {},
   "outputs": [
    {
     "data": {
      "text/plain": [
       "1569898"
      ]
     },
     "execution_count": 10,
     "metadata": {},
     "output_type": "execute_result"
    }
   ],
   "source": [
    "df1.count()"
   ]
  },
  {
   "cell_type": "code",
   "execution_count": 11,
   "metadata": {},
   "outputs": [
    {
     "data": {
      "text/plain": [
       "1891715"
      ]
     },
     "execution_count": 11,
     "metadata": {},
     "output_type": "execute_result"
    }
   ],
   "source": [
    "df2.count()"
   ]
  },
  {
   "cell_type": "markdown",
   "metadata": {},
   "source": [
    "## Juntando os arquivos"
   ]
  },
  {
   "cell_type": "code",
   "execution_count": 12,
   "metadata": {},
   "outputs": [
    {
     "data": {
      "text/plain": [
       "3461613"
      ]
     },
     "execution_count": 12,
     "metadata": {},
     "output_type": "execute_result"
    }
   ],
   "source": [
    "df = df1.union(df2)\n",
    "df.count()"
   ]
  },
  {
   "cell_type": "markdown",
   "metadata": {},
   "source": [
    "# Tratamento dos dados e organização do dataframe"
   ]
  },
  {
   "cell_type": "code",
   "execution_count": 14,
   "metadata": {},
   "outputs": [
    {
     "name": "stdout",
     "output_type": "stream",
     "text": [
      "+--------------------+--------------------+--------------------+------+-----+\n",
      "|                HOST|           TIMESTAMP|         REQUISITION|STATUS| SIZE|\n",
      "+--------------------+--------------------+--------------------+------+-----+\n",
      "|  in24.inetnebr.com |01/Aug/1995:00:00...|/shuttle/missions...|   200| 1839|\n",
      "|    uplherc.upl.com |01/Aug/1995:00:00...|                   /|   304|    0|\n",
      "|    uplherc.upl.com |01/Aug/1995:00:00...|/images/ksclogo-m...|   304|    0|\n",
      "|    uplherc.upl.com |01/Aug/1995:00:00...|/images/MOSAIC-lo...|   304|    0|\n",
      "|    uplherc.upl.com |01/Aug/1995:00:00...|/images/USA-logos...|   304|    0|\n",
      "|ix-esc-ca2-07.ix....|01/Aug/1995:00:00...|/images/launch-lo...|   200| 1713|\n",
      "|    uplherc.upl.com |01/Aug/1995:00:00...|/images/WORLD-log...|   304|    0|\n",
      "|slppp6.intermind....|01/Aug/1995:00:00...|/history/skylab/s...|   200| 1687|\n",
      "|piweba4y.prodigy....|01/Aug/1995:00:00...|/images/launchmed...|   200|11853|\n",
      "|slppp6.intermind....|01/Aug/1995:00:00...|/history/skylab/s...|   200| 9202|\n",
      "|slppp6.intermind....|01/Aug/1995:00:00...|/images/ksclogosm...|   200| 3635|\n",
      "|ix-esc-ca2-07.ix....|01/Aug/1995:00:00...|/history/apollo/i...|   200| 1173|\n",
      "|slppp6.intermind....|01/Aug/1995:00:00...|/history/apollo/i...|   200| 3047|\n",
      "|    uplherc.upl.com |01/Aug/1995:00:00...|/images/NASA-logo...|   304|    0|\n",
      "|       133.43.96.45 |01/Aug/1995:00:00...|/shuttle/missions...|   200|10566|\n",
      "|kgtyk4.kj.yamagat...|01/Aug/1995:00:00...|                   /|   200| 7280|\n",
      "|kgtyk4.kj.yamagat...|01/Aug/1995:00:00...|/images/ksclogo-m...|   200| 5866|\n",
      "|    d0ucr6.fnal.gov |01/Aug/1995:00:00...|/history/apollo/a...|   200| 2743|\n",
      "|ix-esc-ca2-07.ix....|01/Aug/1995:00:00...|/shuttle/resource...|   200| 6849|\n",
      "|    d0ucr6.fnal.gov |01/Aug/1995:00:00...|/history/apollo/a...|   200|14897|\n",
      "+--------------------+--------------------+--------------------+------+-----+\n",
      "only showing top 20 rows\n",
      "\n"
     ]
    }
   ],
   "source": [
    "df_table = df.select( \n",
    "            F.regexp_extract('value', r'^([^\\s]+\\s)', 1).alias('HOST'),\n",
    "            F.regexp_extract('value', r'^.*\\[(\\d\\d/\\w{3}/\\d{4}:\\d{2}:\\d{2}:\\d{2} -\\d{4})]', 1).alias('TIMESTAMP'),\n",
    "            F.regexp_extract('value', r'^.*\"\\w+\\s+([^\\s]+)\\s+HTTP.*\"', 1).alias('REQUISITION'),\n",
    "            F.regexp_extract('value', r'^.*\"\\s+([^\\s]+)', 1).alias('STATUS'),\n",
    "            F.regexp_extract('value', r'^.*\\s+(\\d+)$', 1).alias('SIZE')\n",
    "            )\n",
    "\n",
    "df_table.show()"
   ]
  },
  {
   "cell_type": "code",
   "execution_count": 15,
   "metadata": {},
   "outputs": [
    {
     "data": {
      "text/plain": [
       "3461613"
      ]
     },
     "execution_count": 15,
     "metadata": {},
     "output_type": "execute_result"
    }
   ],
   "source": [
    "df_table.count()"
   ]
  },
  {
   "cell_type": "markdown",
   "metadata": {},
   "source": [
    "## Tratamento de data e tipagem"
   ]
  },
  {
   "cell_type": "code",
   "execution_count": 16,
   "metadata": {},
   "outputs": [
    {
     "name": "stdout",
     "output_type": "stream",
     "text": [
      "+--------------------+----------+--------------------+------+-----+\n",
      "|                HOST|      DATE|         REQUISITION|STATUS| SIZE|\n",
      "+--------------------+----------+--------------------+------+-----+\n",
      "|  in24.inetnebr.com |1995-08-01|/shuttle/missions...|   200| 1839|\n",
      "|    uplherc.upl.com |1995-08-01|                   /|   304|    0|\n",
      "|    uplherc.upl.com |1995-08-01|/images/ksclogo-m...|   304|    0|\n",
      "|    uplherc.upl.com |1995-08-01|/images/MOSAIC-lo...|   304|    0|\n",
      "|    uplherc.upl.com |1995-08-01|/images/USA-logos...|   304|    0|\n",
      "|ix-esc-ca2-07.ix....|1995-08-01|/images/launch-lo...|   200| 1713|\n",
      "|    uplherc.upl.com |1995-08-01|/images/WORLD-log...|   304|    0|\n",
      "|slppp6.intermind....|1995-08-01|/history/skylab/s...|   200| 1687|\n",
      "|piweba4y.prodigy....|1995-08-01|/images/launchmed...|   200|11853|\n",
      "|slppp6.intermind....|1995-08-01|/history/skylab/s...|   200| 9202|\n",
      "|slppp6.intermind....|1995-08-01|/images/ksclogosm...|   200| 3635|\n",
      "|ix-esc-ca2-07.ix....|1995-08-01|/history/apollo/i...|   200| 1173|\n",
      "|slppp6.intermind....|1995-08-01|/history/apollo/i...|   200| 3047|\n",
      "|    uplherc.upl.com |1995-08-01|/images/NASA-logo...|   304|    0|\n",
      "|       133.43.96.45 |1995-08-01|/shuttle/missions...|   200|10566|\n",
      "|kgtyk4.kj.yamagat...|1995-08-01|                   /|   200| 7280|\n",
      "|kgtyk4.kj.yamagat...|1995-08-01|/images/ksclogo-m...|   200| 5866|\n",
      "|    d0ucr6.fnal.gov |1995-08-01|/history/apollo/a...|   200| 2743|\n",
      "|ix-esc-ca2-07.ix....|1995-08-01|/shuttle/resource...|   200| 6849|\n",
      "|    d0ucr6.fnal.gov |1995-08-01|/history/apollo/a...|   200|14897|\n",
      "+--------------------+----------+--------------------+------+-----+\n",
      "only showing top 20 rows\n",
      "\n"
     ]
    }
   ],
   "source": [
    "df_table = df_table\\\n",
    ".where(F.trim(df_table.TIMESTAMP) != \"\")\\\n",
    ".select(df_table.HOST, \n",
    "        F.when(df_table.TIMESTAMP.like(\"%Aug%\"),\\\n",
    "                F.from_unixtime(F.unix_timestamp(\\\n",
    "                                   F.regexp_replace(df_table.TIMESTAMP, \"Aug\", \"08\"), 'dd/MM/yyyy'))\n",
    "                                                 )\\\n",
    "         .otherwise(F.from_unixtime(F.unix_timestamp(\n",
    "                                        F.regexp_replace(df_table.TIMESTAMP, \"Jul\", \"07\"), 'dd/MM/yyyy')))\\\n",
    "         .cast(\"date\")\\\n",
    "         .alias(\"DATE\"),\n",
    "            df_table.REQUISITION, df_table.STATUS.cast('integer'), df_table.SIZE.cast('integer')\n",
    "                        )\n",
    "\n",
    "df_table.show()"
   ]
  },
  {
   "cell_type": "markdown",
   "metadata": {},
   "source": [
    "## Questões"
   ]
  },
  {
   "cell_type": "markdown",
   "metadata": {},
   "source": [
    "### 1. Número de hosts únicos."
   ]
  },
  {
   "cell_type": "code",
   "execution_count": 18,
   "metadata": {},
   "outputs": [
    {
     "data": {
      "text/plain": [
       "137978"
      ]
     },
     "execution_count": 18,
     "metadata": {},
     "output_type": "execute_result"
    }
   ],
   "source": [
    "df_table.select(df_table.HOST).distinct().count()"
   ]
  },
  {
   "cell_type": "markdown",
   "metadata": {},
   "source": [
    "### 2. O total de erros 404."
   ]
  },
  {
   "cell_type": "code",
   "execution_count": 19,
   "metadata": {},
   "outputs": [
    {
     "data": {
      "text/plain": [
       "20901"
      ]
     },
     "execution_count": 19,
     "metadata": {},
     "output_type": "execute_result"
    }
   ],
   "source": [
    "df_table.where(df_table.STATUS == 404).count()"
   ]
  },
  {
   "cell_type": "markdown",
   "metadata": {},
   "source": [
    "### 3. Os 5 URLs que mais causaram erro 404."
   ]
  },
  {
   "cell_type": "code",
   "execution_count": 20,
   "metadata": {},
   "outputs": [
    {
     "name": "stdout",
     "output_type": "stream",
     "text": [
      "+--------------------+---------+\n",
      "|                HOST|COUNT_404|\n",
      "+--------------------+---------+\n",
      "|hoohoo.ncsa.uiuc....|      251|\n",
      "|piweba3y.prodigy....|      157|\n",
      "|jbiagioni.npt.nuw...|      132|\n",
      "|piweba1y.prodigy....|      114|\n",
      "|www-d4.proxy.aol....|       91|\n",
      "+--------------------+---------+\n",
      "only showing top 5 rows\n",
      "\n"
     ]
    }
   ],
   "source": [
    "df_table.select(df_table.HOST,df_table.STATUS)\\\n",
    "          .where(df_table.STATUS == 404)\\\n",
    "          .groupBy(df_table.HOST)\\\n",
    "          .count()\\\n",
    "          .withColumnRenamed(\"count\", \"COUNT_404\")\\\n",
    "          .orderBy(\"COUNT_404\", ascending = False)\\\n",
    "          .select(\"HOST\", \"COUNT_404\")\\\n",
    "          .show(5)"
   ]
  },
  {
   "cell_type": "markdown",
   "metadata": {},
   "source": [
    "### 4. Quantidade de erros 404 por dia."
   ]
  },
  {
   "cell_type": "code",
   "execution_count": 21,
   "metadata": {
    "scrolled": true
   },
   "outputs": [
    {
     "name": "stdout",
     "output_type": "stream",
     "text": [
      "+----------+---------+\n",
      "|      DATE|COUNT_404|\n",
      "+----------+---------+\n",
      "|1995-07-01|      316|\n",
      "|1995-07-02|      291|\n",
      "|1995-07-03|      474|\n",
      "|1995-07-04|      359|\n",
      "|1995-07-05|      497|\n",
      "|1995-07-06|      640|\n",
      "|1995-07-07|      570|\n",
      "|1995-07-08|      302|\n",
      "|1995-07-09|      348|\n",
      "|1995-07-10|      398|\n",
      "|1995-07-11|      471|\n",
      "|1995-07-12|      471|\n",
      "|1995-07-13|      532|\n",
      "|1995-07-14|      413|\n",
      "|1995-07-15|      254|\n",
      "|1995-07-16|      257|\n",
      "|1995-07-17|      406|\n",
      "|1995-07-18|      465|\n",
      "|1995-07-19|      639|\n",
      "|1995-07-20|      428|\n",
      "|1995-07-21|      334|\n",
      "|1995-07-22|      192|\n",
      "|1995-07-23|      233|\n",
      "|1995-07-24|      328|\n",
      "|1995-07-25|      461|\n",
      "|1995-07-26|      336|\n",
      "|1995-07-27|      336|\n",
      "|1995-07-28|       94|\n",
      "|1995-08-01|      243|\n",
      "|1995-08-03|      304|\n",
      "+----------+---------+\n",
      "only showing top 30 rows\n",
      "\n"
     ]
    }
   ],
   "source": [
    "df_table.select(df_table.DATE, df_table.STATUS)\\\n",
    "          .where(df_table.STATUS == 404)\\\n",
    "          .groupBy(df_table.DATE)\\\n",
    "          .count()\\\n",
    "          .withColumnRenamed(\"count\", \"COUNT_404\")\\\n",
    "          .orderBy(\"DATE\")\\\n",
    "          .show(30)"
   ]
  },
  {
   "cell_type": "markdown",
   "metadata": {},
   "source": [
    "### 5. O total de bytes retornados."
   ]
  },
  {
   "cell_type": "code",
   "execution_count": 22,
   "metadata": {},
   "outputs": [
    {
     "name": "stdout",
     "output_type": "stream",
     "text": [
      "+-----------+\n",
      "|      TOTAL|\n",
      "+-----------+\n",
      "|65524314915|\n",
      "+-----------+\n",
      "\n"
     ]
    }
   ],
   "source": [
    "df_table.select(F.sum(df_table.SIZE).alias(\"TOTAL\")).show()"
   ]
  },
  {
   "cell_type": "code",
   "execution_count": 23,
   "metadata": {},
   "outputs": [],
   "source": [
    "gb=1073741824"
   ]
  },
  {
   "cell_type": "code",
   "execution_count": 24,
   "metadata": {},
   "outputs": [],
   "source": [
    "size_table = df_table.select(F.sum(df_table.SIZE).alias(\"TOTAL\"))"
   ]
  },
  {
   "cell_type": "code",
   "execution_count": 25,
   "metadata": {},
   "outputs": [
    {
     "name": "stdout",
     "output_type": "stream",
     "text": [
      "+-----------+--------+\n",
      "|      TOTAL|TOTAL_GB|\n",
      "+-----------+--------+\n",
      "|65524314915|      61|\n",
      "+-----------+--------+\n",
      "\n"
     ]
    }
   ],
   "source": [
    "size_table.select(\"TOTAL\").withColumn('TOTAL_GB', (size_table.TOTAL/gb).cast('integer')).show()"
   ]
  },
  {
   "cell_type": "code",
   "execution_count": null,
   "metadata": {},
   "outputs": [],
   "source": []
  }
 ],
 "metadata": {
  "kernelspec": {
   "display_name": "PySpark",
   "language": "python",
   "name": "pyspark"
  },
  "language_info": {
   "codemirror_mode": {
    "name": "ipython",
    "version": 2
   },
   "file_extension": ".py",
   "mimetype": "text/x-python",
   "name": "python",
   "nbconvert_exporter": "python",
   "pygments_lexer": "ipython2",
   "version": "2.7.5"
  },
  "toc": {
   "base_numbering": 1,
   "nav_menu": {},
   "number_sections": true,
   "sideBar": true,
   "skip_h1_title": false,
   "title_cell": "Table of Contents",
   "title_sidebar": "Contents",
   "toc_cell": false,
   "toc_position": {},
   "toc_section_display": true,
   "toc_window_display": false
  },
  "varInspector": {
   "cols": {
    "lenName": 16,
    "lenType": 16,
    "lenVar": 40
   },
   "kernels_config": {
    "python": {
     "delete_cmd_postfix": "",
     "delete_cmd_prefix": "del ",
     "library": "var_list.py",
     "varRefreshCmd": "print(var_dic_list())"
    },
    "r": {
     "delete_cmd_postfix": ") ",
     "delete_cmd_prefix": "rm(",
     "library": "var_list.r",
     "varRefreshCmd": "cat(var_dic_list()) "
    }
   },
   "types_to_exclude": [
    "module",
    "function",
    "builtin_function_or_method",
    "instance",
    "_Feature"
   ],
   "window_display": false
  }
 },
 "nbformat": 4,
 "nbformat_minor": 2
}
